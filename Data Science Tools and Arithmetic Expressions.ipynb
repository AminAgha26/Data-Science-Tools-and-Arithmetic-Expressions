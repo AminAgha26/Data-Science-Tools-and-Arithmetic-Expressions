{
 "cells": [
  {
   "cell_type": "markdown",
   "metadata": {},
   "source": [
    "<center>\n",
    "    <img src=\"https://cf-courses-data.s3.us.cloud-object-storage.appdomain.cloud/IBMDeveloperSkillsNetwork-DS0105EN-SkillsNetwork/labs/Module2/images/SN_web_lightmode.png\" width=\"300\" alt=\"cognitiveclass.ai logo\">\n",
    "</center>\n"
   ]
  },
  {
   "cell_type": "markdown",
   "metadata": {},
   "source": [
    "#### Add your code below following the instructions given in the course\n"
   ]
  },
  {
   "cell_type": "markdown",
   "metadata": {},
   "source": [
    "# Notebook Title: Data Science Tools and Arithmetic Expressions"
   ]
  },
  {
   "cell_type": "markdown",
   "metadata": {},
   "source": [
    "# Introduction\n",
    "\n",
    "## Data science involves the use of various tools and technologies to extract insights and knowledge from data. In this notebook, we will explore some of the most commonly used data science languages, libraries, and tools. We will also look at some arithmetic expression examples and their implementation in Python."
   ]
  },
  {
   "cell_type": "markdown",
   "metadata": {},
   "source": [
    "# Data Science Languages\n",
    "\n",
    "## 1-Python\n",
    "\n",
    "## 2-R\n",
    "\n",
    "## 3-SQL\n",
    "\n",
    "## 4-SAS\n",
    "\n",
    "## 5-Java"
   ]
  },
  {
   "cell_type": "markdown",
   "metadata": {},
   "source": [
    "# Data Science Libraries\n",
    "\n",
    "## 1-NumPy\n",
    "\n",
    "## 2-Pandas\n",
    "\n",
    "## 3-Matplotlib\n",
    "\n",
    "## 4-Seaborn\n",
    "\n",
    "## 5-Scikit-learn"
   ]
  },
  {
   "cell_type": "markdown",
   "metadata": {},
   "source": [
    "| Tool Name | Description |\n",
    "| --- | --- |\n",
    "| Jupyter Notebook |   An open-source web application that allows you to create and share documents containing live code, equations, visualizations, and narrative text. |\n",
    "| Tableau| A data visualization tool that allows you to create interactive dashboards, reports, and charts. |\n",
    "| Apache Hadoop | An open-source software framework used for distributed storage and processing of large datasets. |\n",
    "| Apache Spark | An open-source distributed computing system used for big data processing and analysis. |\n",
    "| TensorFlow | An open-source machine learning framework developed by Google. |"
   ]
  },
  {
   "cell_type": "markdown",
   "metadata": {},
   "source": [
    "# Arithmetic Expression Examples\n",
    "\n",
    "## Arithmetic expressions involve mathematical operations such as addition, subtraction, multiplication, and division. In Python, we can use operators such as +, -, *, and / to perform these operations.\n",
    "\n",
    "# Examples\n",
    "\n",
    "## 2 + 3 returns 5\n",
    "\n",
    "## 4 * 5 returns 20\n",
    "\n",
    "## 10 - 3 returns 7\n",
    "\n",
    "## 15 / 3 returns 5"
   ]
  },
  {
   "cell_type": "code",
   "execution_count": 8,
   "metadata": {},
   "outputs": [
    {
     "name": "stdin",
     "output_type": "stream",
     "text": [
      "Enter the first number:  3\n",
      "Enter the second number:  2\n"
     ]
    },
    {
     "name": "stdout",
     "output_type": "stream",
     "text": [
      "The product of 3.0 and 2.0 is 6.0\n",
      "The sum of 3.0 and 2.0 is 5.0\n"
     ]
    }
   ],
   "source": [
    "# Ask the user to enter two numbers\n",
    "num1 = float(input(\"Enter the first number: \"))\n",
    "num2 = float(input(\"Enter the second number: \"))\n",
    "\n",
    "# Multiply the two numbers together\n",
    "product = num1 * num2\n",
    "\n",
    "# Add the two numbers together\n",
    "sum = num1 + num2\n",
    "\n",
    "# Print the results\n",
    "print(\"The product of\", num1, \"and\", num2, \"is\", product)\n",
    "print(\"The sum of\", num1, \"and\", num2, \"is\", sum)"
   ]
  },
  {
   "cell_type": "code",
   "execution_count": 10,
   "metadata": {},
   "outputs": [
    {
     "name": "stdin",
     "output_type": "stream",
     "text": [
      "Enter the number of minutes:  60\n"
     ]
    },
    {
     "name": "stdout",
     "output_type": "stream",
     "text": [
      "60 minutes is equal to 1 hours and 0 minutes\n"
     ]
    }
   ],
   "source": [
    "#Ask the user to enter a number of minutes\n",
    "minutes = int(input(\"Enter the number of minutes: \"))\n",
    "\n",
    "#Convert minutes to hours and minutes\n",
    "hours = minutes // 60\n",
    "remaining_minutes = minutes % 60\n",
    "\n",
    "#Print the results\n",
    "print(minutes, \"minutes is equal to\", hours, \"hours and\", remaining_minutes, \"minutes\")"
   ]
  },
  {
   "cell_type": "markdown",
   "metadata": {},
   "source": [
    "# Objectives\n",
    "\n",
    "## 1-To introduce common data science languages, libraries, and tools\n",
    "\n",
    "## 2-To provide examples of arithmetic expressions and their implementation in Python"
   ]
  },
  {
   "cell_type": "markdown",
   "metadata": {},
   "source": [
    "# Author\n",
    "\n",
    "## This notebook was created by [AMIN AGHA]."
   ]
  },
  {
   "cell_type": "code",
   "execution_count": null,
   "metadata": {},
   "outputs": [],
   "source": []
  }
 ],
 "metadata": {
  "kernelspec": {
   "display_name": "Python",
   "language": "python",
   "name": "conda-env-python-py"
  },
  "language_info": {
   "codemirror_mode": {
    "name": "ipython",
    "version": 3
   },
   "file_extension": ".py",
   "mimetype": "text/x-python",
   "name": "python",
   "nbconvert_exporter": "python",
   "pygments_lexer": "ipython3",
   "version": "3.7.12"
  }
 },
 "nbformat": 4,
 "nbformat_minor": 4
}
